{
 "cells": [
  {
   "cell_type": "markdown",
   "id": "motivated-belarus",
   "metadata": {},
   "source": [
    "# Analytics Technical Assignment"
   ]
  },
  {
   "cell_type": "markdown",
   "id": "christian-hollywood",
   "metadata": {},
   "source": [
    "# No 1\n",
    "\n",
    "Fetch data from https://reqres.in/api/users and create list of dicts. dicts contains id, email, first_name "
   ]
  },
  {
   "cell_type": "code",
   "execution_count": 6,
   "id": "developmental-rebel",
   "metadata": {},
   "outputs": [],
   "source": [
    "import requests\n",
    "import pandas as pd"
   ]
  },
  {
   "cell_type": "code",
   "execution_count": 310,
   "id": "eligible-gasoline",
   "metadata": {},
   "outputs": [],
   "source": [
    "response = requests.get('https://reqres.in/api/users')\n",
    "test_list = response.json()\n",
    "test_list = test_list['data']"
   ]
  },
  {
   "cell_type": "code",
   "execution_count": 58,
   "id": "ranging-difference",
   "metadata": {},
   "outputs": [
    {
     "data": {
      "text/plain": [
       "[{'id': 1, 'email': 'george.bluth@reqres.in', 'first_name': 'George'},\n",
       " {'id': 2, 'email': 'janet.weaver@reqres.in', 'first_name': 'Janet'},\n",
       " {'id': 3, 'email': 'emma.wong@reqres.in', 'first_name': 'Emma'},\n",
       " {'id': 4, 'email': 'eve.holt@reqres.in', 'first_name': 'Eve'},\n",
       " {'id': 5, 'email': 'charles.morris@reqres.in', 'first_name': 'Charles'},\n",
       " {'id': 6, 'email': 'tracey.ramos@reqres.in', 'first_name': 'Tracey'}]"
      ]
     },
     "execution_count": 58,
     "metadata": {},
     "output_type": "execute_result"
    }
   ],
   "source": [
    "# initializing key \n",
    "del_key = [\"last_name\",\"avatar\"]\n",
    "  \n",
    "for items in test_list:\n",
    "    for i in del_key:\n",
    "        if i in items:\n",
    "            del items[i]\n",
    "        \n",
    "test_list"
   ]
  },
  {
   "cell_type": "markdown",
   "id": "referenced-clerk",
   "metadata": {},
   "source": [
    "# No 2\n",
    "Question 2. \n",
    "Initialize dictionary with default values\n",
    "\n",
    "Given: \n",
    "\n",
    "employees = ['Kelly', 'Emma', 'John'] \n",
    "\n",
    "defaults = {\"designation\": 'Application Developer', \"salary\": 8000} "
   ]
  },
  {
   "cell_type": "code",
   "execution_count": 330,
   "id": "robust-blank",
   "metadata": {},
   "outputs": [],
   "source": [
    "employees = ['Kelly', 'Emma', 'John'] \n",
    "defaults = {\"designation\": 'Application Developer', \"salary\": 8000}\n",
    "\n",
    "dict={}\n",
    "for i in range(0,len(employees)):\n",
    "    dict[employees[i]] = defaults\n",
    "    "
   ]
  },
  {
   "cell_type": "code",
   "execution_count": 331,
   "id": "tropical-practitioner",
   "metadata": {},
   "outputs": [
    {
     "data": {
      "text/plain": [
       "{'Kelly': {'designation': 'Application Developer', 'salary': 8000},\n",
       " 'Emma': {'designation': 'Application Developer', 'salary': 8000},\n",
       " 'John': {'designation': 'Application Developer', 'salary': 8000}}"
      ]
     },
     "execution_count": 331,
     "metadata": {},
     "output_type": "execute_result"
    }
   ],
   "source": [
    "dict"
   ]
  },
  {
   "cell_type": "markdown",
   "id": "current-aerospace",
   "metadata": {},
   "source": [
    "# No 3\n",
    "Question 3. \n",
    "Merge following two Python dictionaries into one \n",
    "dict1 = {'Ten': 10, 'Twenty': 20, 'Thirty': 30} \n",
    "dict2 = {'Thirty': 30, 'Fourty': 40, 'Fifty': 50} \n",
    "\n",
    "Expected output: \n",
    "{'Ten': 10, 'Twenty': 20, 'Thirty': 30, 'Fourty': 40, 'Fifty': 50} "
   ]
  },
  {
   "cell_type": "code",
   "execution_count": 60,
   "id": "standard-capacity",
   "metadata": {},
   "outputs": [
    {
     "data": {
      "text/plain": [
       "{'Ten': 10, 'Twenty': 20, 'Thirty': 30, 'Fourty': 40, 'Fifty': 50}"
      ]
     },
     "execution_count": 60,
     "metadata": {},
     "output_type": "execute_result"
    }
   ],
   "source": [
    "dict1 = {'Ten': 10, 'Twenty': 20, 'Thirty': 30} \n",
    "dict2 = {'Thirty': 30, 'Fourty': 40, 'Fifty': 50}\n",
    "\n",
    "dict3 = dict1 | dict2\n",
    "dict3"
   ]
  },
  {
   "cell_type": "markdown",
   "id": "attempted-probe",
   "metadata": {},
   "source": [
    "# No 4\n",
    "Question 4. \n",
    "Given a collection of intervals, merge all overlapping intervals. For example:\n",
    "\n",
    "Given [1,3],[2,6],[8,10],[15,18], \n",
    "\n",
    "return [1,6],[8,10],[15,18]. \n",
    "\n",
    "Make sure the returned intervals are sorted. "
   ]
  },
  {
   "cell_type": "code",
   "execution_count": 242,
   "id": "cloudy-exchange",
   "metadata": {},
   "outputs": [],
   "source": [
    "def merge_overlap(list5):\n",
    "    listku=[]\n",
    "    listawal = list5\n",
    "    if listawal[0][1]>listawal[0][0]:\n",
    "        listku.append(listawal[0][0])\n",
    "        listku.append(listawal[0][1])\n",
    "    else:\n",
    "        listku.append(listawal[0][0])\n",
    "    for i in range(1,len(list5)):\n",
    "        for j in range(0,2):\n",
    "            listku.append(listawal[i][j])\n",
    "            if listawal[i][j] < listku[-2]:\n",
    "                del listku[-1]\n",
    "                del listku[-1]\n",
    "    subListLength = len(listku) // 3\n",
    "    list_of_sublists = []\n",
    "    for i in range(0, len(listku), subListLength):\n",
    "        list_of_sublists.append(listku[i:i+subListLength])\n",
    "    return list_of_sublists"
   ]
  },
  {
   "cell_type": "code",
   "execution_count": 243,
   "id": "greenhouse-champagne",
   "metadata": {},
   "outputs": [
    {
     "data": {
      "text/plain": [
       "[[1, 6], [8, 10], [15, 18]]"
      ]
     },
     "execution_count": 243,
     "metadata": {},
     "output_type": "execute_result"
    }
   ],
   "source": [
    "list5 = [1,3],[2,6],[8,10],[15,18]\n",
    "merge_overlap(list5)"
   ]
  }
 ],
 "metadata": {
  "kernelspec": {
   "display_name": "geopandas_env",
   "language": "python",
   "name": "geopandas_env"
  },
  "language_info": {
   "codemirror_mode": {
    "name": "ipython",
    "version": 3
   },
   "file_extension": ".py",
   "mimetype": "text/x-python",
   "name": "python",
   "nbconvert_exporter": "python",
   "pygments_lexer": "ipython3",
   "version": "3.9.1"
  }
 },
 "nbformat": 4,
 "nbformat_minor": 5
}
